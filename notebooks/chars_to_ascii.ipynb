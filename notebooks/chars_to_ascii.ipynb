{
 "cells": [
  {
   "attachments": {},
   "cell_type": "markdown",
   "metadata": {},
   "source": [
    "### Convert hiragana characters to images"
   ]
  },
  {
   "cell_type": "code",
   "execution_count": 1,
   "metadata": {},
   "outputs": [],
   "source": [
    "import pandas as pd\n",
    "from PIL import Image, ImageDraw, ImageFont"
   ]
  },
  {
   "cell_type": "code",
   "execution_count": 2,
   "metadata": {},
   "outputs": [],
   "source": [
    "df = pd.read_csv('../alphabets/hiragana.csv')"
   ]
  },
  {
   "cell_type": "code",
   "execution_count": 7,
   "metadata": {},
   "outputs": [
    {
     "name": "stdout",
     "output_type": "stream",
     "text": [
      "a あ\n",
      "i い\n",
      "u う\n",
      "e え\n",
      "o お\n",
      "ka か\n",
      "ga が\n",
      "ki き\n",
      "gi ぎ\n",
      "ku く\n",
      "gu ぐ\n",
      "ke け\n",
      "ge げ\n",
      "ko こ\n",
      "go ご\n",
      "sa さ\n",
      "za ざ\n",
      "si し\n",
      "zi じ\n",
      "su す\n",
      "zu ず\n",
      "se せ\n",
      "ze ぜ\n",
      "so そ\n",
      "zo ぞ\n",
      "ta た\n",
      "da だ\n",
      "ti ち\n",
      "di ぢ\n",
      "tu つ\n",
      "du づ\n",
      "te て\n",
      "de で\n",
      "to と\n",
      "do ど\n",
      "na な\n",
      "ni に\n",
      "nu ぬ\n",
      "ne ね\n",
      "no の\n",
      "ha は\n",
      "ba ば\n",
      "pa ぱ\n",
      "hi ひ\n",
      "bi び\n",
      "pi ぴ\n",
      "hu ふ\n",
      "bu ぶ\n",
      "pu ぷ\n",
      "he へ\n",
      "be べ\n",
      "pe ぺ\n",
      "ho ほ\n",
      "bo ぼ\n",
      "po ぽ\n",
      "ma ま\n",
      "mi み\n",
      "mu む\n",
      "me め\n",
      "mo も\n",
      "ya や\n",
      "yu ゆ\n",
      "yo よ\n",
      "ra ら\n",
      "ri り\n",
      "ru る\n",
      "re れ\n",
      "ro ろ\n",
      "wa わ\n",
      "wi ゐ\n",
      "we ゑ\n",
      "wo を\n",
      "n ん\n"
     ]
    }
   ],
   "source": [
    "for idx, row in df.iterrows():\n",
    "    print(row['NAME'], row['CHAR'])\n",
    "\n",
    "    # White canvas\n",
    "    image = Image.new('RGB', (64, 64), 'white')\n",
    "\n",
    "    # Create a Draw object\n",
    "    draw = ImageDraw.Draw(image)\n",
    "\n",
    "    # Need to set font if we want to increase text size\n",
    "    # I installed this one with: `sudo apt-get install fonts-takao`\n",
    "    font = ImageFont.truetype(\"/usr/share/fonts/truetype/takao-mincho/TakaoMincho.ttf\", 50) \n",
    "\n",
    "    # Draw the text in the center\n",
    "    textwidth, textheight = draw.textsize(row['CHAR'], font)\n",
    "    # Calculate the x, y coordinates of the text\n",
    "    x = (image.width - textwidth) / 2\n",
    "    y = (image.height - textheight) / 2\n",
    "    draw.text((x, y), row['CHAR'], font=font, fill='black')\n",
    "\n",
    "    # Save img\n",
    "    image.save(f\"../images/hiragana/{row['NAME']}.png\")"
   ]
  },
  {
   "attachments": {},
   "cell_type": "markdown",
   "metadata": {},
   "source": [
    "### Convert images to ascii"
   ]
  },
  {
   "cell_type": "code",
   "execution_count": 27,
   "metadata": {},
   "outputs": [],
   "source": [
    "from ascii_magic import AsciiArt\n",
    "import os"
   ]
  },
  {
   "cell_type": "code",
   "execution_count": 26,
   "metadata": {},
   "outputs": [
    {
     "name": "stdout",
     "output_type": "stream",
     "text": [
      "QQQQQQQ"
     ]
    },
    {
     "name": "stdout",
     "output_type": "stream",
     "text": [
      "QQQQQQQQQQQQQQQQQQQQQQQQQQQQQQQQQQQQQQQQQQQQQQQQQQQQQQQQQ\n",
      "QQQQQQQQQQQQQQQQQQQQQQQQQQQQQQQQQQQQQQQQQQQQQQQQQQQQQQQQQQQQQQQQ\n",
      "QQQQQQQQQQQQQQQQQQQQQQQQQQQQQQQQQQQQQQQQQQQQQQQQQQQQQQQQQQQQQQQQ\n",
      "QQQQQQQQQQQQQQQQQQQQQQQQQQQQQQQQQQQQQQQQQQQQQQQQQQQQQQQQQQQQQQQQ\n",
      "QQQQQQQQQQQQQQQQQQQQQQQQQQQQQQQQQQQQQQQQQQQQQQQQQQQQQQQQQQQQQQQQ\n",
      "QQQQQQQQQQQQQQQQQQQQQQQQQPSY@0QQQQQQQQQQQQQQQQQQQQQQQQQQQQQQQQQQ\n",
      "QQQQQQQQQQQQQQQQQQQQQQQQQX].;xFQQQQQQQQQQQQQQQQQQQQQQQQQQQQQQQQQ\n",
      "QQQQQQQQQQQQQQQQQQQQQQQQQQQ{  \"QQQQQQQQQQQQQQQQQQQQQQQQQQQQQQQQQ\n",
      "QQQQQQQQQQQQQQQQQ@MQQQQQQQQ1  qQQQ0KVoi|%JQQQQQQQQQQQQQQQQQQQQQQ\n",
      "QQQQQQQQQQQQQQQQ0usTgb&$@@H) 'VFT]i;-_<!CZQQQQQQQQQQQQQQQQQQQQQQ\n",
      "QQQQQQQQQQQQQQQQQ0kfoIc%ii>. =%s?7ydkBRQQQQQQQQQQQQQQQQQQQQQQQQQ\n",
      "QQQQQQQQQQQQQQQQQQQQQQ0RRW4  b0QQQBFbWQQQQQQQQQQQQQQQQQQQQQQQQQQ\n",
      "QQQQQQQQQQQQQQQQQQQQQQQQQQS _QQ0W@XI |Lb8D0QQQQQQQQQQQQQQQQQQQQQ\n",
      "QQQQQQQQQQQQQQQQQQQQQQQQQW7 ,j1!!toj.  ?]{l!uVHQQQQQQQQQQQQQQQQQ\n",
      "QQQQQQQQQQQQQQQQQQQQQBEn*i; >dAKWRQw  *RRD&q1=,!dRQQQQQQQQQQQQQQ\n",
      "QQQQQQQQQQQQQQQQQQWV!=/?6&* ?QQQQQJ  ?WQQQQQQKu  lAQQQQQQQQQQQQQ\n",
      "QQQQQQQQQQQQQQQQHw| i6DQQQ{ IQQQB1 _w0QQQQQQQQQS  =KQQQQQQQQQQQQ\n",
      "QQQQQQQQQQQQQQQF/ <d0QQQQQl }QQE| lbQQQQQQQQQQQQ<  JQQQQQQQQQQQQ\n",
      "QQQQQQQQQQQQQM]  oNQQQQQQQl %k! \\qRQQQQQQQQQQQQQ>  nQQQQQQQQQQQQ\n",
      "QQQQQQQQQQQQQ7  ]QQQQQQQQQ} -;>6NQQQQQQQQQQQQQQb. .kQQQQQQQQQQQQ\n",
      "QQQQQQQQQQQQ0.  UQQQQQQQ&y=  LRQQQQQQQQQQQQQQQG/ `2QQQQQQQQQQQQQ\n",
      "QQQQQQQQQQQQ0,  SMQW&4#sv!l  <QQQQQQQQQQQQQQAo. vEQQQQQQQQQQQQQQ\n",
      "QQQQQQQQQQQQQXc;')l*?1yPBQP  <QQQQQQQQQQWbyc':IVMQQQQQQQQQQQQQQQ\n",
      "QQQQQQQQQQQQQQ0@&A8KRQQQQQQ3JKQQRWD8XFT])ilLdKQQQQQQQQQQQQQQQQQQ\n",
      "QQQQQQQQQQQQQQQQQQQQQQQQQQQQQQQQ&L7oLJ548BQQQQQQQQQQQQQQQQQQQQQQ\n",
      "QQQQQQQQQQQQQQQQQQQQQQQQQQQQQQQQ0NRQQQQQQQQQQQQQQQQQQQQQQQQQQQQQ\n",
      "QQQQQQQQQQQQQQQQQQQQQQQQQQQQQQQQQQQQQQQQQQQQQQQQQQQQQQQQQQQQQQQQ\n",
      "QQQQQQQQQQQQQQQQQQQQQQQQQQQQQQQQQQQQQQQQQQQQQQQQQQQQQQQQQQQQQQQQ\n",
      "QQQQQQQQQQQQQQQQQQQQQQQQQQQQQQQQQQQQQQQQQQQQQQQQQQQQQQQQQQQQQQQQ\n"
     ]
    }
   ],
   "source": [
    "my_art = AsciiArt.from_image('../images/hiragana/a.png')\n",
    "my_art.to_ascii(columns=64)"
   ]
  },
  {
   "cell_type": "code",
   "execution_count": 43,
   "metadata": {},
   "outputs": [],
   "source": [
    "with open('../ascii_symbols.h', 'a') as f:\n",
    "\n",
    "    f.write(\"#include <string>\\n\")\n",
    "    f.write(\"#include <unordered_map>\\n\\n\")\n",
    "\n",
    "    for image in os.listdir('../images/hiragana/'):\n",
    "        my_art = AsciiArt.from_image(f'../images/hiragana/{image}')\n",
    "        char_ascii = my_art.to_ascii(columns=64)\n",
    "        char_name = image.split('.')[0]\n",
    "        f.write(f'std::string {char_name} = R\"(\\n')\n",
    "        f.write(char_ascii)\n",
    "        f.write(')\";\\n')\n",
    "\n",
    "    f.write(\"std::unordered_map<std::string, std::string> images = {\\n\")\n",
    "    \n",
    "    for image in os.listdir('../images/hiragana/'):\n",
    "        char_name = image.split('.')[0]\n",
    "        f.write(f'{{\"{char_name}\", {char_name}}},\\n')"
   ]
  }
 ],
 "metadata": {
  "kernelspec": {
   "display_name": "base",
   "language": "python",
   "name": "python3"
  },
  "language_info": {
   "codemirror_mode": {
    "name": "ipython",
    "version": 3
   },
   "file_extension": ".py",
   "mimetype": "text/x-python",
   "name": "python",
   "nbconvert_exporter": "python",
   "pygments_lexer": "ipython3",
   "version": "3.8.8"
  },
  "orig_nbformat": 4
 },
 "nbformat": 4,
 "nbformat_minor": 2
}
